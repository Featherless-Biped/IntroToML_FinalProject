{
 "cells": [
  {
   "cell_type": "code",
   "execution_count": null,
   "id": "cb74dfeb",
   "metadata": {},
   "outputs": [],
   "source": [
    "\n",
    "import pandas as pd, numpy as np, os, joblib\n",
    "from datetime import datetime\n",
    "from sklearn.metrics import roc_auc_score\n",
    "from IPython.core.interactiveshell import InteractiveShell\n",
    "InteractiveShell.ast_node_interactivity = \"all\"\n",
    "\n",
    "class StopExecution(Exception):\n",
    "    def _render_traceback_(self): pass\n",
    "\n",
    "# 👇 Choose the model to run\n",
    "MODEL_TO_RUN = \"rf_v1\""
   ]
  },
  {
   "cell_type": "code",
   "execution_count": 2,
   "id": "85730f69",
   "metadata": {},
   "outputs": [
    {
     "name": "stderr",
     "output_type": "stream",
     "text": [
      "C:\\Users\\Jude Younis\\AppData\\Local\\Temp\\ipykernel_28152\\495698161.py:2: DtypeWarning: Columns (19) have mixed types. Specify dtype option on import or set low_memory=False.\n",
      "  train = pd.read_csv('train.csv')\n",
      "C:\\Users\\Jude Younis\\AppData\\Local\\Temp\\ipykernel_28152\\495698161.py:3: DtypeWarning: Columns (15,19) have mixed types. Specify dtype option on import or set low_memory=False.\n",
      "  test = pd.read_csv('test.csv')\n"
     ]
    }
   ],
   "source": [
    "\n",
    "# STEP 2: Load Data\n",
    "train = pd.read_csv('train.csv')\n",
    "test = pd.read_csv('test.csv')"
   ]
  },
  {
   "cell_type": "code",
   "execution_count": null,
   "id": "6efec0bc",
   "metadata": {},
   "outputs": [],
   "source": [
    "# STEP 3: Split features and labels\n",
    "X = train.drop(columns=['label'])\n",
    "y = train['label']\n",
    "\n",
    "X, test = pd.get_dummies(X), pd.get_dummies(test)\n",
    "X, test = X.align(test, join=\"left\", axis=1, fill_value=0)\n",
    "\n",
    "from sklearn.impute import SimpleImputer\n",
    "from sklearn.preprocessing import StandardScaler\n",
    "\n",
    "X = SimpleImputer().fit_transform(X)\n",
    "test = SimpleImputer().fit_transform(test)\n",
    "X = StandardScaler().fit_transform(X)\n",
    "test = StandardScaler().fit_transform(test)\n",
    "\n"
   ]
  },
  {
   "cell_type": "code",
   "execution_count": null,
   "id": "0247719b",
   "metadata": {},
   "outputs": [
    {
     "name": "stdout",
     "output_type": "stream",
     "text": [
      "Fold AUC scores: [0.9331611154593693, 0.9308944194130006, 0.9325550043046467, 0.9331718507250935, 0.9315359895120419]\n",
      "Average Validation AUC: 0.9322636758828302\n"
     ]
    }
   ],
   "source": [
    "\n",
    "if MODEL_TO_RUN != \"rf_v1\":\n",
    "    raise StopExecution\n",
    "\n",
    "from sklearn.ensemble import RandomForestClassifier\n",
    "from sklearn.model_selection import StratifiedKFold\n",
    "\n",
    "skf = StratifiedKFold(n_splits=5, shuffle=True, random_state=42)\n",
    "test_preds = np.zeros(test_scaled.shape[0])\n",
    "auc_scores = []\n",
    "\n",
    "for train_idx, valid_idx in skf.split(X_scaled, y):\n",
    "    X_train, X_valid = X_scaled[train_idx], X_scaled[valid_idx]\n",
    "    y_train, y_valid = y.iloc[train_idx], y.iloc[valid_idx]\n",
    "\n",
    "    model = RandomForestClassifier(\n",
    "    n_estimators=100,\n",
    "    max_depth=15,\n",
    "    max_features='sqrt',\n",
    "    min_samples_leaf=5,\n",
    "    n_jobs=-1,\n",
    "    bootstrap=True,\n",
    "    random_state=42\n",
    ")\n",
    "\n",
    "    model.fit(X_train, y_train)\n",
    "\n",
    "    val_preds = model.predict_proba(X_valid)[:, 1]\n",
    "    auc = roc_auc_score(y_valid, val_preds)\n",
    "    auc_scores.append(auc)\n",
    "\n",
    "    test_preds += model.predict_proba(test_scaled)[:, 1] / skf.n_splits\n",
    "\n",
    "print(\"Fold AUC scores:\", auc_scores)\n",
    "print(\"Average Validation AUC:\", np.mean(auc_scores))"
   ]
  },
  {
   "cell_type": "code",
   "execution_count": 8,
   "id": "2acadc02",
   "metadata": {},
   "outputs": [],
   "source": [
    "# STEP 8: Create Submission File\n",
    "submission = pd.DataFrame({\n",
    "    'Id': range(len(test_preds)),\n",
    "    'Prediction': test_preds\n",
    "})\n",
    "\n",
    "submission.to_csv('results_31.csv', index=False)  \n"
   ]
  }
 ],
 "metadata": {
  "kernelspec": {
   "display_name": "base",
   "language": "python",
   "name": "python3"
  },
  "language_info": {
   "codemirror_mode": {
    "name": "ipython",
    "version": 3
   },
   "file_extension": ".py",
   "mimetype": "text/x-python",
   "name": "python",
   "nbconvert_exporter": "python",
   "pygments_lexer": "ipython3",
   "version": "3.12.4"
  }
 },
 "nbformat": 4,
 "nbformat_minor": 5
}
