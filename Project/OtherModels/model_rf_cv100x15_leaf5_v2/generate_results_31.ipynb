{
 "cells": [
  {
   "cell_type": "code",
   "execution_count": 41,
   "id": "cb74dfeb",
   "metadata": {},
   "outputs": [],
   "source": [
    "# STEP 1: Imports\n",
    "import pandas as pd\n",
    "from sklearn.model_selection import StratifiedKFold\n",
    "from sklearn.ensemble import RandomForestClassifier\n",
    "from sklearn.preprocessing import StandardScaler\n",
    "from sklearn.impute import SimpleImputer\n",
    "from sklearn.metrics import roc_auc_score\n",
    "import numpy as np\n",
    "\n"
   ]
  },
  {
   "cell_type": "code",
   "execution_count": 42,
   "id": "85730f69",
   "metadata": {},
   "outputs": [
    {
     "name": "stderr",
     "output_type": "stream",
     "text": [
      "C:\\Users\\Jude Younis\\AppData\\Local\\Temp\\ipykernel_13228\\495698161.py:2: DtypeWarning: Columns (19) have mixed types. Specify dtype option on import or set low_memory=False.\n",
      "  train = pd.read_csv('train.csv')\n",
      "C:\\Users\\Jude Younis\\AppData\\Local\\Temp\\ipykernel_13228\\495698161.py:3: DtypeWarning: Columns (15,19) have mixed types. Specify dtype option on import or set low_memory=False.\n",
      "  test = pd.read_csv('test.csv')\n"
     ]
    }
   ],
   "source": [
    "\n",
    "# STEP 2: Load Data\n",
    "train = pd.read_csv('train.csv')\n",
    "test = pd.read_csv('test.csv')"
   ]
  },
  {
   "cell_type": "code",
   "execution_count": 43,
   "id": "6efec0bc",
   "metadata": {},
   "outputs": [],
   "source": [
    "# STEP 3: Split features and labels\n",
    "X = train.drop(columns=['label'])\n",
    "y = train['label']\n",
    "\n"
   ]
  },
  {
   "cell_type": "code",
   "execution_count": 44,
   "id": "18a1f556",
   "metadata": {},
   "outputs": [],
   "source": [
    "# STEP 4: Encode Categorical Columns\n",
    "X_encoded = pd.get_dummies(X)\n",
    "test_encoded = pd.get_dummies(test)\n",
    "\n",
    "# Align the test set to match training columns\n",
    "X_encoded, test_encoded = X_encoded.align(test_encoded, join='left', axis=1, fill_value=0)\n"
   ]
  },
  {
   "cell_type": "code",
   "execution_count": 45,
   "id": "c465375b",
   "metadata": {},
   "outputs": [],
   "source": [
    "# STEP 5: Handle Missing Values\n",
    "imputer = SimpleImputer(strategy='mean')\n",
    "X_imputed = imputer.fit_transform(X_encoded)\n",
    "test_imputed = imputer.transform(test_encoded)"
   ]
  },
  {
   "cell_type": "code",
   "execution_count": 46,
   "id": "1af97a04",
   "metadata": {},
   "outputs": [],
   "source": [
    "# STEP 6: Preprocess with StandardScaler\n",
    "scaler = StandardScaler()\n",
    "X_scaled = scaler.fit_transform(X_imputed)\n",
    "test_scaled = scaler.transform(test_imputed)"
   ]
  },
  {
   "cell_type": "code",
   "execution_count": 48,
   "id": "0247719b",
   "metadata": {},
   "outputs": [
    {
     "name": "stdout",
     "output_type": "stream",
     "text": [
      "Fold AUC scores: [0.9331611154593693, 0.9308944194130006, 0.9325550043046467, 0.9331718507250935, 0.9315359895120419]\n",
      "Average Validation AUC: 0.9322636758828302\n"
     ]
    }
   ],
   "source": [
    "# STEP 7: 5-Fold Cross-Validation with Optimized Random Forest\n",
    "skf = StratifiedKFold(n_splits=5, shuffle=True, random_state=42)\n",
    "test_preds = np.zeros(test_scaled.shape[0])\n",
    "auc_scores = []\n",
    "\n",
    "for train_idx, valid_idx in skf.split(X_scaled, y):\n",
    "    X_train, X_valid = X_scaled[train_idx], X_scaled[valid_idx]\n",
    "    y_train, y_valid = y.iloc[train_idx], y.iloc[valid_idx]\n",
    "\n",
    "    model = RandomForestClassifier(\n",
    "    n_estimators=100,\n",
    "    max_depth=15,\n",
    "    max_features='sqrt',\n",
    "    min_samples_leaf=5,\n",
    "    n_jobs=-1,\n",
    "    bootstrap=True,\n",
    "    random_state=42\n",
    ")\n",
    "\n",
    "    model.fit(X_train, y_train)\n",
    "\n",
    "    val_preds = model.predict_proba(X_valid)[:, 1]\n",
    "    auc = roc_auc_score(y_valid, val_preds)\n",
    "    auc_scores.append(auc)\n",
    "\n",
    "    test_preds += model.predict_proba(test_scaled)[:, 1] / skf.n_splits\n",
    "\n",
    "print(\"Fold AUC scores:\", auc_scores)\n",
    "print(\"Average Validation AUC:\", np.mean(auc_scores))"
   ]
  },
  {
   "cell_type": "code",
   "execution_count": null,
   "id": "2acadc02",
   "metadata": {},
   "outputs": [],
   "source": [
    "# STEP 8: Create Submission File\n",
    "submission = pd.DataFrame({\n",
    "    'Id': range(len(test_preds)),\n",
    "    'Prediction': test_preds\n",
    "})\n",
    "\n",
    "submission.to_csv('results_31.csv', index=False)  # group number 31\n"
   ]
  }
 ],
 "metadata": {
  "kernelspec": {
   "display_name": "base",
   "language": "python",
   "name": "python3"
  },
  "language_info": {
   "codemirror_mode": {
    "name": "ipython",
    "version": 3
   },
   "file_extension": ".py",
   "mimetype": "text/x-python",
   "name": "python",
   "nbconvert_exporter": "python",
   "pygments_lexer": "ipython3",
   "version": "3.12.4"
  }
 },
 "nbformat": 4,
 "nbformat_minor": 5
}
